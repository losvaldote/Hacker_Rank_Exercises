{
 "cells": [
  {
   "cell_type": "markdown",
   "metadata": {},
   "source": [
    "# Problema 6"
   ]
  },
  {
   "cell_type": "code",
   "execution_count": null,
   "metadata": {},
   "outputs": [],
   "source": []
  },
  {
   "cell_type": "code",
   "execution_count": null,
   "metadata": {},
   "outputs": [],
   "source": []
  },
  {
   "cell_type": "code",
   "execution_count": null,
   "metadata": {},
   "outputs": [],
   "source": []
  },
  {
   "cell_type": "code",
   "execution_count": null,
   "metadata": {},
   "outputs": [],
   "source": [
    "def countingSort(arr):\n",
    "    \n",
    "    n = len(arr)\n",
    "    # Arreglo de frecuencias\n",
    "    counter_array = []\n",
    "    # Variable auxiliar\n",
    "    aux = 0\n",
    "    \n",
    "    # Verificar el tamaño del arreglo\n",
    "    if n < 100 or n>10**6:\n",
    "        print(\"The size of the array must be between 100 and 10^6. \")\n",
    "        return\n",
    "    # Verificar los valores permitido\n",
    "    for i in range(n):\n",
    "        if arr[i]<0 and arr[i]>=100:\n",
    "            print(\"Use numbers between 0 and 100.\")\n",
    "            return\n",
    "    \n",
    "    # Ciclo para obtener las frecuencias\n",
    "    # El primer for es para tomar una entrada\n",
    "    # y el segundo es para compararlo con el resto de las entadas.\n",
    "    for i in range(n):\n",
    "        for j in range(n):\n",
    "            if i == arr[j]:\n",
    "                # Almacenamos las frecuencias en el auxiliar\n",
    "                aux += 1\n",
    "        # Guardamos el auxiliar en el arreglo.\n",
    "        counter_array.append(aux)\n",
    "        # Reiniciamos a cero el auxiliar para volver a contar\n",
    "        aux = 0\n",
    "    return counter_array"
   ]
  },
  {
   "cell_type": "code",
   "execution_count": null,
   "metadata": {},
   "outputs": [],
   "source": [
    "n = 5\n",
    "aux = []\n",
    "for i in range(n):\n",
    "    aux.append(i)\n",
    "aux"
   ]
  },
  {
   "cell_type": "code",
   "execution_count": 1,
   "metadata": {},
   "outputs": [],
   "source": [
    "a = [1,2,2,2,3,4,4,1]"
   ]
  },
  {
   "cell_type": "code",
   "execution_count": null,
   "metadata": {},
   "outputs": [],
   "source": [
    "countingSort(a)"
   ]
  },
  {
   "cell_type": "markdown",
   "metadata": {},
   "source": [
    "### Tratando de optimizar"
   ]
  },
  {
   "cell_type": "code",
   "execution_count": 4,
   "metadata": {},
   "outputs": [],
   "source": [
    "def countingSort(arr):\n",
    "    \n",
    "    n = len(arr)\n",
    "    # Arreglo de frecuencias iniciado en cero\n",
    "    counter_array = [0]*n\n",
    "    \n",
    "    # Verificar el tamaño del arreglo\n",
    "    if n < 100 or n>10**6:\n",
    "        print(\"The size of the array must be between 100 and 10^6. \")\n",
    "        return\n",
    "    # Verificar los valores permitido\n",
    "    for i in range(n):\n",
    "        if arr[i]<0 or arr[i]>=100:\n",
    "            print(\"Use numbers between 0 and 100.\")\n",
    "            return\n",
    "\n",
    "    # Ciclo para contar las frecuencias\n",
    "    for i in arr:\n",
    "        counter_array[i] += 1\n",
    "        \n",
    "    return counter_array"
   ]
  },
  {
   "cell_type": "code",
   "execution_count": null,
   "metadata": {},
   "outputs": [],
   "source": [
    "a = [0]"
   ]
  },
  {
   "cell_type": "code",
   "execution_count": null,
   "metadata": {},
   "outputs": [],
   "source": [
    "a*100"
   ]
  },
  {
   "cell_type": "code",
   "execution_count": null,
   "metadata": {},
   "outputs": [],
   "source": [
    "b = [0]*100"
   ]
  },
  {
   "cell_type": "code",
   "execution_count": 6,
   "metadata": {},
   "outputs": [],
   "source": [
    "a = [1,2,2,2,3,4,4,9]"
   ]
  },
  {
   "cell_type": "code",
   "execution_count": 7,
   "metadata": {},
   "outputs": [
    {
     "ename": "IndexError",
     "evalue": "list index out of range",
     "output_type": "error",
     "traceback": [
      "\u001b[0;31m---------------------------------------------------------------------------\u001b[0m",
      "\u001b[0;31mIndexError\u001b[0m                                Traceback (most recent call last)",
      "\u001b[0;32m<ipython-input-7-ea6d945d43ff>\u001b[0m in \u001b[0;36m<module>\u001b[0;34m\u001b[0m\n\u001b[0;32m----> 1\u001b[0;31m \u001b[0mcountingSort\u001b[0m\u001b[0;34m(\u001b[0m\u001b[0ma\u001b[0m\u001b[0;34m)\u001b[0m\u001b[0;34m\u001b[0m\u001b[0;34m\u001b[0m\u001b[0m\n\u001b[0m",
      "\u001b[0;32m<ipython-input-4-31d000561061>\u001b[0m in \u001b[0;36mcountingSort\u001b[0;34m(arr)\u001b[0m\n\u001b[1;32m     17\u001b[0m     \u001b[0;31m# Ciclo para contar las frecuencias\u001b[0m\u001b[0;34m\u001b[0m\u001b[0;34m\u001b[0m\u001b[0;34m\u001b[0m\u001b[0m\n\u001b[1;32m     18\u001b[0m     \u001b[0;32mfor\u001b[0m \u001b[0mi\u001b[0m \u001b[0;32min\u001b[0m \u001b[0marr\u001b[0m\u001b[0;34m:\u001b[0m\u001b[0;34m\u001b[0m\u001b[0;34m\u001b[0m\u001b[0m\n\u001b[0;32m---> 19\u001b[0;31m         \u001b[0mcounter_array\u001b[0m\u001b[0;34m[\u001b[0m\u001b[0mi\u001b[0m\u001b[0;34m]\u001b[0m \u001b[0;34m+=\u001b[0m \u001b[0;36m1\u001b[0m\u001b[0;34m\u001b[0m\u001b[0;34m\u001b[0m\u001b[0m\n\u001b[0m\u001b[1;32m     20\u001b[0m \u001b[0;34m\u001b[0m\u001b[0m\n\u001b[1;32m     21\u001b[0m     \u001b[0;32mreturn\u001b[0m \u001b[0mcounter_array\u001b[0m\u001b[0;34m\u001b[0m\u001b[0;34m\u001b[0m\u001b[0m\n",
      "\u001b[0;31mIndexError\u001b[0m: list index out of range"
     ]
    }
   ],
   "source": [
    "countingSort(a)"
   ]
  },
  {
   "cell_type": "markdown",
   "metadata": {},
   "source": [
    "## La solución correcta es:\n"
   ]
  },
  {
   "cell_type": "code",
   "execution_count": 10,
   "metadata": {},
   "outputs": [],
   "source": [
    "def countingSort(arr):\n",
    "    # Write your code here\n",
    "    n = len(arr)\n",
    "    # Arreglo de frecuencias iniciado en cero\n",
    "    counter_array = [0]*100\n",
    "    \n",
    "    if n < 100 or n>10**6:\n",
    "        print(\"The size of the array must be between 100 and 10^6. \")\n",
    "        return\n",
    "    for i in range(n):\n",
    "        if arr[i]<0 or arr[i]>=100:\n",
    "            print(\"Use numbers between 0 and 100.\")\n",
    "            return\n",
    "\n",
    "    # Ciclo para contar las frecuencias\n",
    "    for i in arr:\n",
    "        counter_array[i] += 1\n",
    "        \n",
    "    return counter_array"
   ]
  },
  {
   "cell_type": "code",
   "execution_count": 9,
   "metadata": {},
   "outputs": [],
   "source": [
    "# El problema estaba en que debía devolver un arreglo de tamaño 100, sin importar el tamaño del arreglo de entrada\n",
    "# porque los números que podía contener dicho arreglo solo estaban entre 0 y 100, sin tocar el 100. En las \n",
    "# soluciones anteriores yo dejé que el tamaño del arreglo solución dependiera del tamaño del arreglo original.\n"
   ]
  },
  {
   "cell_type": "markdown",
   "metadata": {},
   "source": [
    "## Como está en Hacker Rank."
   ]
  },
  {
   "cell_type": "code",
   "execution_count": null,
   "metadata": {},
   "outputs": [],
   "source": [
    "#!/bin/python3\n",
    "\n",
    "import math\n",
    "import os\n",
    "import random\n",
    "import re\n",
    "import sys\n",
    "\n",
    "#\n",
    "# Complete the 'countingSort' function below.\n",
    "#\n",
    "# The function is expected to return an INTEGER_ARRAY.\n",
    "# The function accepts INTEGER_ARRAY arr as parameter.\n",
    "#\n",
    "\n",
    "def countingSort(arr):\n",
    "    # Write your code here\n",
    "    n = len(arr)\n",
    "    # Arreglo de frecuencias iniciado en cero\n",
    "    counter_array = [0]*100\n",
    "    \n",
    "    #if n < 100 or n>10**6:\n",
    "    #    print(\"The size of the array must be between 100 and 10^6. \")\n",
    "    #    return\n",
    "    #for i in range(n):\n",
    "    #    if arr[i]<0 or arr[i]>=100:\n",
    "    #        print(\"Use numbers between 0 and 100.\")\n",
    "    #        return\n",
    "\n",
    "    # Ciclo para contar las frecuencias\n",
    "    for i in arr:\n",
    "        counter_array[i] += 1\n",
    "        \n",
    "    return counter_array\n",
    "\n",
    "if __name__ == '__main__':\n",
    "    fptr = open(os.environ['OUTPUT_PATH'], 'w')\n",
    "\n",
    "    n = int(input().strip())\n",
    "\n",
    "    arr = list(map(int, input().rstrip().split()))\n",
    "\n",
    "    result = countingSort(arr)\n",
    "\n",
    "    fptr.write(' '.join(map(str, result)))\n",
    "    fptr.write('\\n')\n",
    "\n",
    "    fptr.close()\n"
   ]
  }
 ],
 "metadata": {
  "kernelspec": {
   "display_name": "Python 3",
   "language": "python",
   "name": "python3"
  },
  "language_info": {
   "codemirror_mode": {
    "name": "ipython",
    "version": 3
   },
   "file_extension": ".py",
   "mimetype": "text/x-python",
   "name": "python",
   "nbconvert_exporter": "python",
   "pygments_lexer": "ipython3",
   "version": "3.8.5"
  }
 },
 "nbformat": 4,
 "nbformat_minor": 4
}
