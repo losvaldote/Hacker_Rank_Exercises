{
 "cells": [
  {
   "cell_type": "markdown",
   "metadata": {},
   "source": [
    "# Problema 1.\n",
    "## Entrenamiento de una semana."
   ]
  },
  {
   "cell_type": "markdown",
   "metadata": {},
   "source": [
    "Given an array of integers, calculate the ratios of its elements that are positive, negative, and zero. Print the decimal value of each fraction on a new line with  places after the decimal.\n",
    "\n",
    "Note: This challenge introduces precision problems. The test cases are scaled to six decimal places, though answers with absolute error of up to  are acceptable."
   ]
  },
  {
   "cell_type": "markdown",
   "metadata": {},
   "source": [
    "Example\n",
    "\n",
    "arr=[1,1,0,-1,-1]\n",
    "\n",
    "There are n=5 elements, two positive, two negative and one zero. Their ratios are $2/5 = 0.400000$, $2/5 = 0.400000$ and $1/5 = 0.200000$. Results are printed as:\n",
    "0.400000\n",
    "0.400000\n",
    "0.200000"
   ]
  },
  {
   "cell_type": "markdown",
   "metadata": {},
   "source": [
    "Function Description\n",
    "\n",
    "Complete the plusMinus function in the editor below.\n",
    "\n",
    "plusMinus has the following parameter(s):\n",
    "\n",
    "int arr[n]: an array of integers"
   ]
  },
  {
   "cell_type": "markdown",
   "metadata": {},
   "source": [
    "Print\n",
    "Print the ratios of positive, negative and zero values in the array. Each value should be printed on a separate line with 6 digits after the decimal. The function should not return a value."
   ]
  },
  {
   "cell_type": "markdown",
   "metadata": {},
   "source": [
    "Input Format\n",
    "\n",
    "The first line contains an integer, n, the size of the array.\n",
    "The second line contains n space-separated integers that describe arr[n].\n",
    "\n",
    "Constraints\n",
    "$0 < n \\leq 100$\n",
    "\n",
    "$-100 \\leq arr[i] \\leq 100$\n",
    "\n",
    "\n",
    "Output Format\n",
    "\n",
    "Print the following 3 lines, each to 6 decimals:\n",
    "\n",
    "proportion of positive values\n",
    "\n",
    "proportion of negative values\n",
    "\n",
    "proportion of zeros"
   ]
  },
  {
   "cell_type": "code",
   "execution_count": 1,
   "metadata": {},
   "outputs": [],
   "source": [
    "import math\n",
    "import os\n",
    "import random\n",
    "import re\n",
    "import sys"
   ]
  },
  {
   "cell_type": "code",
   "execution_count": null,
   "metadata": {},
   "outputs": [],
   "source": [
    "# Tamaño del arreglo\n",
    "n = 6"
   ]
  },
  {
   "cell_type": "code",
   "execution_count": 2,
   "metadata": {},
   "outputs": [],
   "source": [
    "# Arreglo\n",
    "arr = [1,1,0,-1,-1]"
   ]
  },
  {
   "cell_type": "code",
   "execution_count": 17,
   "metadata": {},
   "outputs": [],
   "source": [
    "def plusMinus(arr):\n",
    "    \n",
    "    # Línea para verificar el tamaño del arreglo\n",
    "    if len(arr)>100:\n",
    "        print(\"Try with a small array, less than 100 elements\")\n",
    "        # El siguiente return nos saca de la función\n",
    "        return\n",
    "    \n",
    "    # Línea para verificar el intervalo de los números\n",
    "    for i in range(len(arr)):\n",
    "        if arr[i]<-100 or arr[i]>100:\n",
    "            print(\"Use a number between -100 and 100\")\n",
    "            return\n",
    "    \n",
    "    # Otra forma de verificar el intervalo de los números en lugar de usar\n",
    "    # la indexación es pasar directamente los elementos del arreglo.\n",
    "    #for i in arr:\n",
    "    #    if i<-100 or i>100:\n",
    "    #        print(\"Use a number between -100 and 100\")\n",
    "    #        return\n",
    "    \n",
    "    # Contadores para positivo, negativo y cero\n",
    "    pos  = 0\n",
    "    neg  = 0\n",
    "    zero = 0\n",
    "    \n",
    "    # Ciclo para contar los positivos, negativos y ceros\n",
    "    for j in range(len(arr)):\n",
    "        if arr[j] > 0:\n",
    "            pos += 1\n",
    "        elif arr[j] < 0:\n",
    "            neg += 1\n",
    "        else:\n",
    "            zero +=1\n",
    "    #print(pos, neg, zero)\n",
    "    \n",
    "    # Imprimir las razones\n",
    "    # Positivo\n",
    "    print(\"{:.6f}\".format(pos/len(arr)))\n",
    "    # Negativo\n",
    "    print(\"{:.6f}\".format(neg/len(arr)))\n",
    "    # Ceros\n",
    "    print(\"{:.6f}\".format(zero/len(arr)))\n",
    "    \n",
    "    #print(\"Hola\")\n",
    "    return"
   ]
  },
  {
   "cell_type": "code",
   "execution_count": 18,
   "metadata": {},
   "outputs": [
    {
     "name": "stdout",
     "output_type": "stream",
     "text": [
      "0.400000\n",
      "0.400000\n",
      "0.200000\n"
     ]
    }
   ],
   "source": [
    "plusMinus(arr)"
   ]
  },
  {
   "cell_type": "code",
   "execution_count": null,
   "metadata": {},
   "outputs": [],
   "source": [
    "# Prueba para llamar los arreglos\n",
    "for i in arr:\n",
    "    #print(i)\n",
    "    if i<-100 or i>100:\n",
    "            print(\"Use a number between -100 and 100\")\n",
    "            "
   ]
  },
  {
   "cell_type": "code",
   "execution_count": null,
   "metadata": {},
   "outputs": [],
   "source": [
    "pos = 0"
   ]
  },
  {
   "cell_type": "code",
   "execution_count": null,
   "metadata": {},
   "outputs": [],
   "source": [
    "pos =+1\n",
    "pos"
   ]
  },
  {
   "cell_type": "code",
   "execution_count": null,
   "metadata": {},
   "outputs": [],
   "source": [
    "for j in range(len(arr)):\n",
    "        if arr[j] > 0:\n",
    "            pos +=  1\n",
    "            print(pos)\n",
    "        #elif arr[j] < 0:\n",
    "        #    neg =+1\n",
    "        #else:\n",
    "        #    zero =+1\n",
    "        #print(arr[j])"
   ]
  },
  {
   "cell_type": "code",
   "execution_count": 5,
   "metadata": {},
   "outputs": [
    {
     "name": "stdout",
     "output_type": "stream",
     "text": [
      "2 2 1\n"
     ]
    }
   ],
   "source": [
    "pos=0\n",
    "neg=0\n",
    "zero=0\n",
    "for aux in arr:\n",
    "    if aux > 0:\n",
    "        pos += 1\n",
    "    elif aux < 0:\n",
    "        neg += 1\n",
    "    else:\n",
    "        zero +=1\n",
    "print(pos, neg, zero)"
   ]
  },
  {
   "cell_type": "markdown",
   "metadata": {},
   "source": [
    "## Como funciona en Hacker Rank."
   ]
  },
  {
   "cell_type": "code",
   "execution_count": null,
   "metadata": {},
   "outputs": [],
   "source": [
    "import math\n",
    "import os\n",
    "import random\n",
    "import re\n",
    "import sys\n",
    "\n",
    "#\n",
    "# Complete the 'plusMinus' function below.\n",
    "#\n",
    "# The function accepts INTEGER_ARRAY arr as parameter.\n",
    "#\n",
    "\n",
    "def plusMinus(arr):\n",
    "    # Write your code here\n",
    "    if len(arr)>100:\n",
    "        print(\"Try with a small array, less than 100 elements\")\n",
    "        return\n",
    "    for i in range(len(arr)):\n",
    "        if arr[i]<-100 or arr[i]>100:\n",
    "            print(\"Use a number between -100 and 100\")\n",
    "            return\n",
    "    pos  = 0\n",
    "    neg  = 0\n",
    "    zero = 0\n",
    "    for j in range(len(arr)):\n",
    "        if arr[j] > 0:\n",
    "            pos += 1\n",
    "        elif arr[j] < 0:\n",
    "            neg += 1\n",
    "        else:\n",
    "            zero +=1\n",
    "    print(\"{:.6f}\".format(pos/len(arr)))\n",
    "    print(\"{:.6f}\".format(neg/len(arr)))\n",
    "    print(\"{:.6f}\".format(zero/len(arr)))\n",
    "    return"
   ]
  }
 ],
 "metadata": {
  "kernelspec": {
   "display_name": "Python 3",
   "language": "python",
   "name": "python3"
  },
  "language_info": {
   "codemirror_mode": {
    "name": "ipython",
    "version": 3
   },
   "file_extension": ".py",
   "mimetype": "text/x-python",
   "name": "python",
   "nbconvert_exporter": "python",
   "pygments_lexer": "ipython3",
   "version": "3.8.5"
  }
 },
 "nbformat": 4,
 "nbformat_minor": 4
}
