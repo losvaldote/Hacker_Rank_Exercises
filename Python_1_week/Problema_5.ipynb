{
 "cells": [
  {
   "cell_type": "markdown",
   "metadata": {},
   "source": [
    "# Problema 5"
   ]
  },
  {
   "cell_type": "markdown",
   "metadata": {},
   "source": [
    "Given a square matrix, calculate the absolute difference between the sums of its diagonals.\n",
    "\n",
    "For example, the square matrix arr is shown below:\n",
    "\n",
    "1 2 3\n",
    "4 5 6\n",
    "9 8 9  \n",
    "\n",
    "The left-to-right diagonal = 1+5+9 = 15. The right to left diagonal = 3+5+9 = 17. Their absolute difference is \n",
    "$|15-17|=2$.\n",
    "\n",
    "Function description\n",
    "\n",
    "Complete the  function diagonalDifference in the editor below.\n",
    "\n",
    "diagonalDifference takes the following parameter:\n",
    "\n",
    "int arr[n][m]: an array of integers\n",
    "\n",
    "Return\n",
    "\n",
    "int: the absolute diagonal difference\n",
    "\n",
    "Input Format\n",
    "\n",
    "The first line contains a single integer, n, the number of rows and columns in the square matrix arr.\n",
    "Each of the next n lines describes a row, arr[i], and consists of n space-separated integers arr[i][j].\n",
    "\n",
    "Constraints\n",
    "\n",
    "$-100 <= arr[i][j] <= 100$\n",
    "\n",
    "Output Format\n",
    "\n",
    "Return the absolute difference between the sums of the matrix's two diagonals as a single integer.\n",
    "\n",
    "Sample Input\n",
    "\n",
    "3\n",
    "11 2 4\n",
    "4 5 6\n",
    "10 8 -12\n",
    "Sample Output\n",
    "\n",
    "15\n",
    "Explanation\n",
    "\n",
    "The primary diagonal is:\n",
    "\n",
    "11\n",
    "   5\n",
    "     -12\n",
    "Sum across the primary diagonal: 11 + 5 - 12 = 4\n",
    "\n",
    "The secondary diagonal is:\n",
    "\n",
    "     4\n",
    "   5\n",
    "10\n",
    "Sum across the secondary diagonal: 4 + 5 + 10 = 19\n",
    "Difference: |4 - 19| = 15"
   ]
  },
  {
   "cell_type": "code",
   "execution_count": null,
   "metadata": {},
   "outputs": [],
   "source": []
  },
  {
   "cell_type": "code",
   "execution_count": 10,
   "metadata": {},
   "outputs": [],
   "source": [
    "import numpy as np"
   ]
  },
  {
   "cell_type": "code",
   "execution_count": 21,
   "metadata": {},
   "outputs": [],
   "source": [
    "def diagonalDifference(arr):\n",
    "    # Auxiliares\n",
    "    n = len(arr)\n",
    "    diag_i_d = 0\n",
    "    diag_d_i = 0\n",
    "    # Ciclo para sumar la diagonal izquierda derecha\n",
    "    for i in range(n):\n",
    "        for j in range(n):\n",
    "            # Si los índices son iguales, es la diagonal\n",
    "            if i == j:\n",
    "                diag_i_d = diag_i_d + arr[i][j]\n",
    "    # Ciclo para sumar la diagonal derecha izquierda\n",
    "    for i in range(n):\n",
    "        for j in range(1,n+1):\n",
    "            # La idea que tengo es que para la diagonal del otro lado voy a usar a[i][-i]\n",
    "            # porque voy a aprovechar la característica de que los índices negativos empiezan\n",
    "            # con -1 y es el último elemento del arreglo. Contrario al caso normal que empiezan en cero.\n",
    "            # Estoy pensando en que estos elementos serían, por ejemplo, en una matriz de \n",
    "            # 3x3, a_1,3; a_2,2 y a_3,1 que en la notación que menciono serían:\n",
    "            # a_1,-1; a_2,-2 y a_3,-3.\n",
    "            # Ahora, en la notación de python serían\n",
    "            # a_1,3 = a_1,-1 = a_0,-1\n",
    "            # a_2,2 = a_2,-2 = a_1,-2\n",
    "            # a_3,1 = a_3,-3 = 1_2,-3\n",
    "            # Por eso en el if la comparación la debo hacer con (i+1) y el range del for empezarlo en 1\n",
    "            # y terminarlo en n+1\n",
    "            if (i+1) == j:\n",
    "                diag_d_i = diag_d_i + arr[i][-j]\n",
    "    #print(diag_i_d, diag_d_i)\n",
    "    diff = abs(diag_i_d - diag_d_i)\n",
    "    #print(diff)\n",
    "    return diff\n",
    "    "
   ]
  },
  {
   "cell_type": "code",
   "execution_count": 6,
   "metadata": {},
   "outputs": [
    {
     "name": "stdout",
     "output_type": "stream",
     "text": [
      "5\n",
      "4\n",
      "3\n",
      "2\n",
      "1\n"
     ]
    }
   ],
   "source": [
    "n = 5\n",
    "a = [1,2,3,4,5]\n",
    "for i in range(1,n+1):\n",
    "    print(a[-i])"
   ]
  },
  {
   "cell_type": "code",
   "execution_count": 8,
   "metadata": {},
   "outputs": [
    {
     "data": {
      "text/plain": [
       "2"
      ]
     },
     "execution_count": 8,
     "metadata": {},
     "output_type": "execute_result"
    }
   ],
   "source": [
    "b = [[1,2],\n",
    "     [4,5]]\n",
    "\n",
    "len(b)"
   ]
  },
  {
   "cell_type": "code",
   "execution_count": 22,
   "metadata": {},
   "outputs": [],
   "source": [
    "a = [[1,2,3],\n",
    "     [4,5,6],\n",
    "     [9,8,9]]"
   ]
  },
  {
   "cell_type": "code",
   "execution_count": 23,
   "metadata": {},
   "outputs": [
    {
     "data": {
      "text/plain": [
       "2"
      ]
     },
     "execution_count": 23,
     "metadata": {},
     "output_type": "execute_result"
    }
   ],
   "source": [
    "diagonalDifference(a)"
   ]
  },
  {
   "cell_type": "markdown",
   "metadata": {},
   "source": [
    "## Como aparece en Hacker Rank"
   ]
  },
  {
   "cell_type": "code",
   "execution_count": null,
   "metadata": {},
   "outputs": [],
   "source": [
    "#!/bin/python3\n",
    "\n",
    "import math\n",
    "import os\n",
    "import random\n",
    "import re\n",
    "import sys\n",
    "\n",
    "#\n",
    "# Complete the 'diagonalDifference' function below.\n",
    "#\n",
    "# The function is expected to return an INTEGER.\n",
    "# The function accepts 2D_INTEGER_ARRAY arr as parameter.\n",
    "#\n",
    "\n",
    "def diagonalDifference(arr):\n",
    "    # Write your code here\n",
    "    n = len(arr)\n",
    "    diag_i_d = 0\n",
    "    diag_d_i = 0\n",
    "    for i in range(n):\n",
    "        for j in range(n):\n",
    "            if i == j:\n",
    "                diag_i_d = diag_i_d + arr[i][j]\n",
    "    for i in range(n):\n",
    "        for j in range(1,n+1):\n",
    "            if (i+1) == j:\n",
    "                diag_d_i = diag_d_i + arr[i][-j]\n",
    "    #print(diag_i_d, diag_d_i)\n",
    "    diff = abs(diag_i_d - diag_d_i)\n",
    "    #print(diff)\n",
    "    return diff\n",
    "if __name__ == '__main__':\n",
    "    fptr = open(os.environ['OUTPUT_PATH'], 'w')\n",
    "\n",
    "    n = int(input().strip())\n",
    "\n",
    "    arr = []\n",
    "\n",
    "    for _ in range(n):\n",
    "        arr.append(list(map(int, input().rstrip().split())))\n",
    "\n",
    "    result = diagonalDifference(arr)\n",
    "\n",
    "    fptr.write(str(result) + '\\n')\n",
    "\n",
    "    fptr.close()"
   ]
  }
 ],
 "metadata": {
  "kernelspec": {
   "display_name": "Python 3",
   "language": "python",
   "name": "python3"
  },
  "language_info": {
   "codemirror_mode": {
    "name": "ipython",
    "version": 3
   },
   "file_extension": ".py",
   "mimetype": "text/x-python",
   "name": "python",
   "nbconvert_exporter": "python",
   "pygments_lexer": "ipython3",
   "version": "3.8.5"
  }
 },
 "nbformat": 4,
 "nbformat_minor": 4
}
