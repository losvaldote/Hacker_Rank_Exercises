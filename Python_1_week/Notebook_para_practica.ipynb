{
 "cells": [
  {
   "cell_type": "markdown",
   "metadata": {},
   "source": [
    "## Problema 1"
   ]
  },
  {
   "cell_type": "markdown",
   "metadata": {},
   "source": [
    "Given an array of integers, calculate the ratios of its elements that are positive, negative, and zero. Print the decimal value of each fraction on a new line with  places after the decimal.\n",
    "\n",
    "Note: This challenge introduces precision problems. The test cases are scaled to six decimal places, though answers with absolute error of up to  are acceptable.\n",
    "\n",
    "Example\n",
    "\n",
    "arr=[1,1,0,-1,-1]\n",
    "\n",
    "There are n=5 elements, two positive, two negative and one zero. Their ratios are $2/5 = 0.400000$, $2/5 = 0.400000$ and $1/5 = 0.200000$. Results are printed as:\n",
    "0.400000\n",
    "0.400000\n",
    "0.200000"
   ]
  },
  {
   "cell_type": "code",
   "execution_count": 1,
   "metadata": {},
   "outputs": [],
   "source": [
    "import math\n",
    "import numpy as np"
   ]
  },
  {
   "cell_type": "code",
   "execution_count": 5,
   "metadata": {},
   "outputs": [],
   "source": [
    "def plusMinus(array):\n",
    "    # Contadores\n",
    "    pos  = 0\n",
    "    neg  = 0\n",
    "    zero = 0\n",
    "    \n",
    "    # Ciclo para aumentar los contadores\n",
    "    for i in range(len(array)):\n",
    "        if arr[i] > 0:\n",
    "            pos +=1\n",
    "        elif arr[i] < 0:\n",
    "            neg +=1\n",
    "        else:\n",
    "            zero +=1\n",
    "    \n",
    "    # Positivos\n",
    "    print(\"El porcentaje de positivos es:\")\n",
    "    print(\"{:.6f}\".format(pos/len(array)))\n",
    "    # Negativos\n",
    "    print(\"El porcentaje de negativos es:\")\n",
    "    print(\"{:.6f}\".format(neg/len(array)))\n",
    "    # Zeros\n",
    "    print(\"El porcentaje de ceros es:\")\n",
    "    print(\"{:.6f}\".format(zero/len(array)))\n",
    "        "
   ]
  },
  {
   "cell_type": "code",
   "execution_count": 3,
   "metadata": {},
   "outputs": [],
   "source": [
    "arr=[1,1,0,-1,-1]"
   ]
  },
  {
   "cell_type": "code",
   "execution_count": 6,
   "metadata": {},
   "outputs": [
    {
     "name": "stdout",
     "output_type": "stream",
     "text": [
      "El porcentaje de positivos es:\n",
      "0.400000\n",
      "El porcentaje de negativos es:\n",
      "0.400000\n",
      "El porcentaje de ceros es:\n",
      "0.200000\n"
     ]
    }
   ],
   "source": [
    "plusMinus(arr)\n"
   ]
  },
  {
   "cell_type": "markdown",
   "metadata": {},
   "source": [
    "\n"
   ]
  },
  {
   "cell_type": "markdown",
   "metadata": {},
   "source": [
    "## Problema 2"
   ]
  },
  {
   "cell_type": "markdown",
   "metadata": {},
   "source": [
    "Given five positive integers, find the minimum and maximum values that can be calculated by summing exactly four of the five integers. Then print the respective minimum and maximum values as a single line of two space-separated long integers.\n",
    "\n",
    "Example\n",
    "\n",
    "arr=[1,3,5,7,9]\n",
    "\n",
    "The minimum sum is 1+3+5+7 = 16 and the maximum sum is 3+5+7+9 = 24. The function prints\n",
    "16 24"
   ]
  },
  {
   "cell_type": "code",
   "execution_count": 11,
   "metadata": {},
   "outputs": [],
   "source": [
    "def miniMax(array):\n",
    "    # Contador \n",
    "    i = 0\n",
    "    \n",
    "    # Lista auxiliar\n",
    "    aux = []\n",
    "    \n",
    "    # Suma de todos los términos\n",
    "    total = sum(array)\n",
    "    \n",
    "    # Ciclo para restarle un término a la suma total.\n",
    "    for i in range(len(array)):\n",
    "        aux.append(total - array[i])\n",
    "        \n",
    "    mini = min(aux)\n",
    "    maxi = max(aux)\n",
    "    \n",
    "    print(\"La máxima suma es: \", maxi)\n",
    "    print(\"La mínima suma es: \", mini)\n",
    "    \n",
    "    return mini, maxi"
   ]
  },
  {
   "cell_type": "code",
   "execution_count": 12,
   "metadata": {},
   "outputs": [],
   "source": [
    "arr1 = [1,3,5,7,9]"
   ]
  },
  {
   "cell_type": "code",
   "execution_count": 13,
   "metadata": {},
   "outputs": [
    {
     "name": "stdout",
     "output_type": "stream",
     "text": [
      "La máxima suma es:  24\n",
      "La mínima suma es:  16\n"
     ]
    },
    {
     "data": {
      "text/plain": [
       "(16, 24)"
      ]
     },
     "execution_count": 13,
     "metadata": {},
     "output_type": "execute_result"
    }
   ],
   "source": [
    "miniMax(arr1)"
   ]
  },
  {
   "cell_type": "code",
   "execution_count": 14,
   "metadata": {},
   "outputs": [],
   "source": [
    "arr2=[1,2,3,4,5,6,7,8]"
   ]
  },
  {
   "cell_type": "code",
   "execution_count": 15,
   "metadata": {},
   "outputs": [
    {
     "name": "stdout",
     "output_type": "stream",
     "text": [
      "La máxima suma es:  35\n",
      "La mínima suma es:  28\n"
     ]
    },
    {
     "data": {
      "text/plain": [
       "(28, 35)"
      ]
     },
     "execution_count": 15,
     "metadata": {},
     "output_type": "execute_result"
    }
   ],
   "source": [
    "miniMax(arr2)"
   ]
  },
  {
   "cell_type": "markdown",
   "metadata": {},
   "source": [
    "## Problema 3"
   ]
  },
  {
   "cell_type": "markdown",
   "metadata": {},
   "source": [
    "Given a time in 12-hour AM/PM format, convert it to military (24-hour) time.\n",
    "\n",
    "Note: - 12:00:00AM on a 12-hour clock is 00:00:00 on a 24-hour clock.\n",
    "- 12:00:00PM on a 12-hour clock is 12:00:00 on a 24-hour clock.\n",
    "\n",
    "Example\n",
    "\n",
    "s = '12:01:00PM'\n",
    "\n",
    "Return '12:01:00'.\n",
    "\n",
    "s = '12:01:00AM'\n",
    "\n",
    "Return '00:01:00'."
   ]
  },
  {
   "cell_type": "code",
   "execution_count": 28,
   "metadata": {},
   "outputs": [],
   "source": [
    "def timeConversion(s):\n",
    "    if s[-2] == 'P':\n",
    "        if s[0]=='1' and s[1] =='2':\n",
    "            return s[0:-2]\n",
    "        else:\n",
    "            return str(int(s[0:2])+12) + s[2:-2]\n",
    "    else:\n",
    "        if s[0]=='1' and s[1] =='2':\n",
    "            return '00'+s[2:-2]\n",
    "        else:\n",
    "            return s[0:-2]"
   ]
  },
  {
   "cell_type": "code",
   "execution_count": 31,
   "metadata": {},
   "outputs": [],
   "source": [
    "s = '05:01:00PM'"
   ]
  },
  {
   "cell_type": "code",
   "execution_count": 32,
   "metadata": {},
   "outputs": [
    {
     "data": {
      "text/plain": [
       "'17:01:00'"
      ]
     },
     "execution_count": 32,
     "metadata": {},
     "output_type": "execute_result"
    }
   ],
   "source": [
    "timeConversion(s)"
   ]
  },
  {
   "cell_type": "code",
   "execution_count": 34,
   "metadata": {},
   "outputs": [
    {
     "data": {
      "text/plain": [
       "0"
      ]
     },
     "execution_count": 34,
     "metadata": {},
     "output_type": "execute_result"
    }
   ],
   "source": [
    "4%2"
   ]
  },
  {
   "cell_type": "markdown",
   "metadata": {},
   "source": [
    "## Problema 4"
   ]
  },
  {
   "cell_type": "markdown",
   "metadata": {},
   "source": [
    "Given an array of integers, where all elements but one occur twice, find the unique element.\n",
    "\n",
    "Example\n",
    "\n",
    "a=[1,2,3,4,3,2,1]\n",
    "\n",
    "The unique element is 4."
   ]
  },
  {
   "cell_type": "code",
   "execution_count": 40,
   "metadata": {},
   "outputs": [],
   "source": [
    "# Restricciones:\n",
    "# Tamanio del arreglo menor que cien\n",
    "# La longitud del arreglo es impar\n",
    "def lonelyNumber(s):\n",
    "    # Verificando la longitud\n",
    "    n = len(s)\n",
    "    if n>=100:\n",
    "        print(\"Ingresa un arreglo con máximo 100 elementos.\")\n",
    "        return\n",
    "\n",
    "    # Verificando que la longitud sea impar\n",
    "    if n%2 == 0:\n",
    "        print(\"La longitud del arreglo debe ser un número impar.\")\n",
    "        return\n",
    "\n",
    "    # Auxiliar para el número solito\n",
    "    lonely = 0\n",
    "    # Auxiliar contador\n",
    "    b = 0\n",
    "    \n",
    "    # Ciclo para encontrar el número que no se repite\n",
    "    for i in range(n):\n",
    "        for j in range(n):\n",
    "            if i!=j and s[i]==s[j]:\n",
    "                b +=1 \n",
    "        if b == 0:\n",
    "            lonely = s[i]\n",
    "            print(lonely)\n",
    "        b=0    \n",
    "    return lonely"
   ]
  },
  {
   "cell_type": "code",
   "execution_count": 45,
   "metadata": {},
   "outputs": [],
   "source": [
    "a=[1,2,3,4,3,2,1]\n",
    "b=[1,2,3,3,2,1,5,5,100]"
   ]
  },
  {
   "cell_type": "code",
   "execution_count": 46,
   "metadata": {},
   "outputs": [
    {
     "name": "stdout",
     "output_type": "stream",
     "text": [
      "100\n"
     ]
    },
    {
     "data": {
      "text/plain": [
       "100"
      ]
     },
     "execution_count": 46,
     "metadata": {},
     "output_type": "execute_result"
    }
   ],
   "source": [
    "lonelyNumber(b)"
   ]
  },
  {
   "cell_type": "code",
   "execution_count": 47,
   "metadata": {},
   "outputs": [],
   "source": [
    "c=[1,2]"
   ]
  },
  {
   "cell_type": "code",
   "execution_count": 48,
   "metadata": {},
   "outputs": [
    {
     "name": "stdout",
     "output_type": "stream",
     "text": [
      "La longitud del arreglo debe ser un número impar.\n"
     ]
    }
   ],
   "source": [
    "lonelyNumber(c)"
   ]
  },
  {
   "cell_type": "markdown",
   "metadata": {},
   "source": [
    "## Problema 5"
   ]
  },
  {
   "cell_type": "markdown",
   "metadata": {},
   "source": [
    "Given a square matrix, calculate the absolute difference between the sums of its diagonals.\n",
    "\n",
    "For example, the square matrix arr is shown below:\n",
    "\n",
    "1 2 3\n",
    "4 5 6\n",
    "9 8 9  \n",
    "\n",
    "The left-to-right diagonal = 1+5+9 = 15. The right to left diagonal = 3+5+9 = 17. Their absolute difference is \n",
    "$|15-17|=2$."
   ]
  },
  {
   "cell_type": "code",
   "execution_count": 49,
   "metadata": {},
   "outputs": [],
   "source": [
    "import math"
   ]
  },
  {
   "cell_type": "code",
   "execution_count": 57,
   "metadata": {},
   "outputs": [],
   "source": [
    "def diagonalDifference(arr):\n",
    "    # Longitud del arreglo\n",
    "    n = len(arr)\n",
    "    \n",
    "    # Auxiliares para guardar la suma\n",
    "    diag_l_r = 0\n",
    "    diag_r_l = 0\n",
    "    \n",
    "    # Diagonal izquierda-derecha\n",
    "    for i in range(n):\n",
    "        for j in range(n):\n",
    "            if i==j:\n",
    "                diag_l_r = diag_l_r + arr[i][j]\n",
    "    \n",
    "    # Diagonal derecha-izquierda\n",
    "    for i in range(n):\n",
    "        for j in range(n+1):\n",
    "            if (i+1) == j:\n",
    "                diag_r_l = diag_r_l + arr[i][-j]\n",
    "    \n",
    "    diferencia = abs(diag_l_r - diag_r_l)\n",
    "    print(\"La diferencia absoluta es: \", diferencia)\n",
    "    \n",
    "    return diferencia"
   ]
  },
  {
   "cell_type": "code",
   "execution_count": 51,
   "metadata": {},
   "outputs": [],
   "source": [
    "a = [[1,2,3],[4,5,6],[9,8,9]]"
   ]
  },
  {
   "cell_type": "code",
   "execution_count": 58,
   "metadata": {},
   "outputs": [
    {
     "name": "stdout",
     "output_type": "stream",
     "text": [
      "La diferencia absoluta es:  2\n"
     ]
    },
    {
     "data": {
      "text/plain": [
       "2"
      ]
     },
     "execution_count": 58,
     "metadata": {},
     "output_type": "execute_result"
    }
   ],
   "source": [
    "diagonalDifference(a)"
   ]
  },
  {
   "cell_type": "code",
   "execution_count": null,
   "metadata": {},
   "outputs": [],
   "source": []
  }
 ],
 "metadata": {
  "kernelspec": {
   "display_name": "Python 3",
   "language": "python",
   "name": "python3"
  },
  "language_info": {
   "codemirror_mode": {
    "name": "ipython",
    "version": 3
   },
   "file_extension": ".py",
   "mimetype": "text/x-python",
   "name": "python",
   "nbconvert_exporter": "python",
   "pygments_lexer": "ipython3",
   "version": "3.8.5"
  }
 },
 "nbformat": 4,
 "nbformat_minor": 4
}
