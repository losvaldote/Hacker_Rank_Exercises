{
 "cells": [
  {
   "cell_type": "markdown",
   "metadata": {},
   "source": [
    "# Problema 2"
   ]
  },
  {
   "cell_type": "markdown",
   "metadata": {},
   "source": [
    "Given five positive integers, find the minimum and maximum values that can be calculated by summing exactly four of the five integers. Then print the respective minimum and maximum values as a single line of two space-separated long integers.\n",
    "\n",
    "Example\n",
    "\n",
    "arr=[1,3,5,7,9]\n",
    "\n",
    "The minimum sum is 1+3+5+7 = 16 and the maximum sum is 3+5+7+9 = 24. The function prints\n",
    "16 24\n",
    "\n"
   ]
  },
  {
   "cell_type": "markdown",
   "metadata": {},
   "source": [
    "Function Description\n",
    "\n",
    "Complete the miniMaxSum function in the editor below.\n",
    "\n",
    "miniMaxSum has the following parameter(s):\n",
    "\n",
    "arr: an array of 5 integers\n",
    "Print\n",
    "\n",
    "Print two space-separated integers on one line: the minimum sum and the maximum sum of 4 of 5 elements.\n",
    "\n",
    "Input Format\n",
    "\n",
    "A single line of five space-separated integers.\n",
    "\n",
    "Output Format\n",
    "\n",
    "Print two space-separated long integers denoting the respective minimum and maximum values that can be calculated by summing exactly four of the five integers. (The output can be greater than a 32 bit integer.)"
   ]
  },
  {
   "cell_type": "code",
   "execution_count": 1,
   "metadata": {},
   "outputs": [],
   "source": [
    "import math\n",
    "import os\n",
    "import random\n",
    "import re\n",
    "import sys"
   ]
  },
  {
   "cell_type": "code",
   "execution_count": 2,
   "metadata": {},
   "outputs": [],
   "source": [
    "arr = [1,2,3,4,5]"
   ]
  },
  {
   "cell_type": "code",
   "execution_count": 13,
   "metadata": {},
   "outputs": [],
   "source": [
    "def miniMaxSum(arr):\n",
    "    aux = []\n",
    "    suma = sum(arr)\n",
    "    for i in range(len(arr)):\n",
    "        aux.append(suma - arr[i])\n",
    "    minimo = min(aux)\n",
    "    maximo = max(aux)\n",
    "    print(minimo, maximo, sep=' ')\n",
    "    return"
   ]
  },
  {
   "cell_type": "code",
   "execution_count": 3,
   "metadata": {},
   "outputs": [
    {
     "data": {
      "text/plain": [
       "15"
      ]
     },
     "execution_count": 3,
     "metadata": {},
     "output_type": "execute_result"
    }
   ],
   "source": [
    "suma = sum(arr)\n",
    "suma"
   ]
  },
  {
   "cell_type": "code",
   "execution_count": 14,
   "metadata": {},
   "outputs": [
    {
     "name": "stdout",
     "output_type": "stream",
     "text": [
      "10 14\n"
     ]
    }
   ],
   "source": [
    "miniMaxSum(arr)"
   ]
  },
  {
   "cell_type": "code",
   "execution_count": 12,
   "metadata": {},
   "outputs": [
    {
     "data": {
      "text/plain": [
       "1"
      ]
     },
     "execution_count": 12,
     "metadata": {},
     "output_type": "execute_result"
    }
   ],
   "source": [
    "min(arr)"
   ]
  },
  {
   "cell_type": "markdown",
   "metadata": {},
   "source": [
    "## Como está en Hacker Rank"
   ]
  },
  {
   "cell_type": "code",
   "execution_count": null,
   "metadata": {},
   "outputs": [],
   "source": [
    "import math\n",
    "import os\n",
    "import random\n",
    "import re\n",
    "import sys\n",
    "\n",
    "#\n",
    "# Complete the 'miniMaxSum' function below.\n",
    "#\n",
    "# The function accepts INTEGER_ARRAY arr as parameter.\n",
    "#\n",
    "\n",
    "def miniMaxSum(arr):\n",
    "    # Write your code here\n",
    "    aux = []\n",
    "    suma = sum(arr)\n",
    "    for i in range(len(arr)):\n",
    "        aux.append(suma - arr[i])\n",
    "    minimo = min(aux)\n",
    "    maximo = max(aux)\n",
    "    print(minimo, maximo, sep=' ')\n",
    "    return\n",
    "if __name__ == '__main__':\n",
    "\n",
    "    arr = list(map(int, input().rstrip().split()))\n",
    "\n",
    "    miniMaxSum(arr)"
   ]
  }
 ],
 "metadata": {
  "kernelspec": {
   "display_name": "Python 3",
   "language": "python",
   "name": "python3"
  },
  "language_info": {
   "codemirror_mode": {
    "name": "ipython",
    "version": 3
   },
   "file_extension": ".py",
   "mimetype": "text/x-python",
   "name": "python",
   "nbconvert_exporter": "python",
   "pygments_lexer": "ipython3",
   "version": "3.8.5"
  }
 },
 "nbformat": 4,
 "nbformat_minor": 4
}
