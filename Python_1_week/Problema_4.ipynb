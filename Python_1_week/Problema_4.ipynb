{
 "cells": [
  {
   "cell_type": "markdown",
   "metadata": {},
   "source": [
    "# Problema 4\n"
   ]
  },
  {
   "cell_type": "markdown",
   "metadata": {},
   "source": [
    "Given an array of integers, where all elements but one occur twice, find the unique element.\n",
    "\n",
    "Example\n",
    "\n",
    "a=[1,2,3,4,3,2,1]\n",
    "\n",
    "The unique element is 4.\n",
    "\n",
    "Function Description\n",
    "\n",
    "Complete the lonelyinteger function in the editor below.\n",
    "\n",
    "lonelyinteger has the following parameter(s):\n",
    "\n",
    "int a[n]: an array of integers\n",
    "Returns\n",
    "\n",
    "int: the element that occurs only once\n",
    "\n",
    "Input Format\n",
    "\n",
    "The first line contains a single integer, n, the number of integers in the array.\n",
    "The second line contains n space-separated integers that describe the values in a.\n",
    "\n",
    "Constraints\n",
    "\n",
    "$1<=n<100$\n",
    "\n",
    "It is guaranteed that n is an odd number and that there is one unique element.\n",
    "\n",
    "$0<=a[i]<=100$, where $0<=i<n$."
   ]
  },
  {
   "cell_type": "code",
   "execution_count": null,
   "metadata": {},
   "outputs": [],
   "source": []
  },
  {
   "cell_type": "code",
   "execution_count": null,
   "metadata": {},
   "outputs": [],
   "source": []
  },
  {
   "cell_type": "code",
   "execution_count": null,
   "metadata": {},
   "outputs": [],
   "source": []
  },
  {
   "cell_type": "code",
   "execution_count": 62,
   "metadata": {},
   "outputs": [],
   "source": [
    "def lonelyinteger(a):\n",
    "    n = len(a)\n",
    "    # Revisar que el tamaño del arreglo esté entre 1 y 100.\n",
    "    if n<1 or n>=100:\n",
    "        print(\"The size of the array must be 1 and 100.\")\n",
    "        return\n",
    "    # Revisar que el número de elementos en el arreglo sea impar.\n",
    "    if n%2 == 0:\n",
    "        print(\"The number of elements in the array must be an odd number.\")\n",
    "        return\n",
    "    # Revisar que los números estén entre 0 y 100\n",
    "    for aux in a:\n",
    "        if aux<0 or aux>100:\n",
    "            print(\"Use numbers between 0 and 100\")\n",
    "            return\n",
    "    # Auxiliar donde almacenaremos el entero solitario\n",
    "    lonely = 0\n",
    "    # Contador auxiliar\n",
    "    b = 0\n",
    "    # Ciclo para extraer el entero solitario.\n",
    "    for i in range(n):\n",
    "        for j in range(n):\n",
    "            if i!=j and a[i] == a[j]:\n",
    "                #print(a[i], a[j])\n",
    "                b += 1\n",
    "        if b == 0:\n",
    "            lonely = a[i]\n",
    "            print(lonely)\n",
    "        b=0\n",
    "    return lonely"
   ]
  },
  {
   "cell_type": "code",
   "execution_count": 69,
   "metadata": {},
   "outputs": [],
   "source": [
    "a = [1,1,3,2,2]"
   ]
  },
  {
   "cell_type": "code",
   "execution_count": 70,
   "metadata": {},
   "outputs": [
    {
     "name": "stdout",
     "output_type": "stream",
     "text": [
      "3\n"
     ]
    },
    {
     "data": {
      "text/plain": [
       "3"
      ]
     },
     "execution_count": 70,
     "metadata": {},
     "output_type": "execute_result"
    }
   ],
   "source": [
    "lonelyinteger(a)"
   ]
  },
  {
   "cell_type": "code",
   "execution_count": 1,
   "metadata": {},
   "outputs": [
    {
     "data": {
      "text/plain": [
       "True"
      ]
     },
     "execution_count": 1,
     "metadata": {},
     "output_type": "execute_result"
    }
   ],
   "source": [
    "2!=1"
   ]
  },
  {
   "cell_type": "code",
   "execution_count": 2,
   "metadata": {},
   "outputs": [
    {
     "data": {
      "text/plain": [
       "0"
      ]
     },
     "execution_count": 2,
     "metadata": {},
     "output_type": "execute_result"
    }
   ],
   "source": [
    "2%2"
   ]
  },
  {
   "cell_type": "code",
   "execution_count": 6,
   "metadata": {},
   "outputs": [
    {
     "data": {
      "text/plain": [
       "1"
      ]
     },
     "execution_count": 6,
     "metadata": {},
     "output_type": "execute_result"
    }
   ],
   "source": [
    "7%2"
   ]
  },
  {
   "cell_type": "markdown",
   "metadata": {},
   "source": [
    "## Como aparece en Hacker Rank"
   ]
  },
  {
   "cell_type": "code",
   "execution_count": null,
   "metadata": {},
   "outputs": [],
   "source": [
    "#!/bin/python3\n",
    "\n",
    "import math\n",
    "import os\n",
    "import random\n",
    "import re\n",
    "import sys\n",
    "\n",
    "#\n",
    "# Complete the 'lonelyinteger' function below.\n",
    "#\n",
    "# The function is expected to return an INTEGER.\n",
    "# The function accepts INTEGER_ARRAY a as parameter.\n",
    "#\n",
    "\n",
    "def lonelyinteger(a):\n",
    "    # Write your code here\n",
    "    n = len(a)\n",
    "    if n<1 or n>=100:\n",
    "        print(\"The size of the array must be 1 and 100.\")\n",
    "        return\n",
    "    if n%2 == 0:\n",
    "        print(\"The number of elements in the array must be an odd number.\")\n",
    "        return\n",
    "    for aux in a:\n",
    "        if aux<0 or aux>100:\n",
    "            print(\"Use numbers between 0 and 100\")\n",
    "            return\n",
    "    lonely = 0\n",
    "    b = 0\n",
    "    for i in range(n):\n",
    "        for j in range(n):\n",
    "            if i!=j and a[i] == a[j]:\n",
    "                #print(a[i], a[j])\n",
    "                b += 1\n",
    "        if b == 0:\n",
    "            lonely = a[i]\n",
    "            #print(lonely)\n",
    "        b=0\n",
    "    return lonely\n",
    "\n",
    "if __name__ == '__main__':\n",
    "    fptr = open(os.environ['OUTPUT_PATH'], 'w')\n",
    "\n",
    "    n = int(input().strip())\n",
    "\n",
    "    a = list(map(int, input().rstrip().split()))\n",
    "\n",
    "    result = lonelyinteger(a)\n",
    "\n",
    "    fptr.write(str(result) + '\\n')\n",
    "\n",
    "    fptr.close()\n"
   ]
  }
 ],
 "metadata": {
  "kernelspec": {
   "display_name": "Python 3",
   "language": "python",
   "name": "python3"
  },
  "language_info": {
   "codemirror_mode": {
    "name": "ipython",
    "version": 3
   },
   "file_extension": ".py",
   "mimetype": "text/x-python",
   "name": "python",
   "nbconvert_exporter": "python",
   "pygments_lexer": "ipython3",
   "version": "3.8.5"
  }
 },
 "nbformat": 4,
 "nbformat_minor": 4
}
