{
 "cells": [
  {
   "cell_type": "markdown",
   "metadata": {},
   "source": [
    "# Problema 8"
   ]
  },
  {
   "cell_type": "code",
   "execution_count": null,
   "metadata": {},
   "outputs": [],
   "source": []
  },
  {
   "cell_type": "code",
   "execution_count": 3,
   "metadata": {},
   "outputs": [],
   "source": [
    "from itertools import permutations"
   ]
  },
  {
   "cell_type": "code",
   "execution_count": 1,
   "metadata": {},
   "outputs": [],
   "source": [
    "S = 'HACK'\n",
    "k = 2"
   ]
  },
  {
   "cell_type": "code",
   "execution_count": 6,
   "metadata": {},
   "outputs": [
    {
     "name": "stdout",
     "output_type": "stream",
     "text": [
      "('A', 'C')\n",
      "('A', 'H')\n",
      "('A', 'K')\n",
      "('C', 'A')\n",
      "('C', 'H')\n",
      "('C', 'K')\n",
      "('H', 'A')\n",
      "('H', 'C')\n",
      "('H', 'K')\n",
      "('K', 'A')\n",
      "('K', 'C')\n",
      "('K', 'H')\n"
     ]
    }
   ],
   "source": [
    "# Hace las permutaciones.\n",
    "# Pero necestimos llamar list porque permutations por si solo crea otro tipo de objeto\n",
    "# y list lo transforma en una lista para poder trabajar.\n",
    "aux = list(permutations(S,k))\n",
    "\n",
    "# Ordena las permutaciones que ya fueron hechas lista.\n",
    "aux = sorted(aux)\n",
    "\n",
    "# Si dejamos solo el print i nos imprimirá las tuplas.\n",
    "for i in aux:\n",
    "    print(i)"
   ]
  },
  {
   "cell_type": "code",
   "execution_count": 7,
   "metadata": {},
   "outputs": [
    {
     "name": "stdout",
     "output_type": "stream",
     "text": [
      "A C\n",
      "A H\n",
      "A K\n",
      "C A\n",
      "C H\n",
      "C K\n",
      "H A\n",
      "H C\n",
      "H K\n",
      "K A\n",
      "K C\n",
      "K H\n"
     ]
    }
   ],
   "source": [
    "# Necesitamos usar * para que las desempaquete.\n",
    "for i in aux:\n",
    "    print(*i)"
   ]
  },
  {
   "cell_type": "code",
   "execution_count": 8,
   "metadata": {},
   "outputs": [
    {
     "name": "stdout",
     "output_type": "stream",
     "text": [
      "AC\n",
      "AH\n",
      "AK\n",
      "CA\n",
      "CH\n",
      "CK\n",
      "HA\n",
      "HC\n",
      "HK\n",
      "KA\n",
      "KC\n",
      "KH\n"
     ]
    }
   ],
   "source": [
    "# Ahora, por defecto, print usa como separador el espacio ' ',\n",
    "# debemos cambiar esta opción para decirle que no queremos el espacio.\n",
    "for i in aux:\n",
    "    print(*i, sep = '')"
   ]
  },
  {
   "cell_type": "code",
   "execution_count": null,
   "metadata": {},
   "outputs": [],
   "source": [
    "# La solución como funciona en hacker rank es:\n",
    "from itertools import permutations\n",
    "\n",
    "S, k = input().split()\n",
    "k = int(k)\n",
    "\n",
    "aux = list(permutations(S,k))\n",
    "aux = sorted(aux)\n",
    "\n",
    "for i in aux:\n",
    "    print(*i, sep='')"
   ]
  }
 ],
 "metadata": {
  "kernelspec": {
   "display_name": "Python 3",
   "language": "python",
   "name": "python3"
  },
  "language_info": {
   "codemirror_mode": {
    "name": "ipython",
    "version": 3
   },
   "file_extension": ".py",
   "mimetype": "text/x-python",
   "name": "python",
   "nbconvert_exporter": "python",
   "pygments_lexer": "ipython3",
   "version": "3.8.5"
  }
 },
 "nbformat": 4,
 "nbformat_minor": 4
}
